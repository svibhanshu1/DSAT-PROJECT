{
 "cells": [
  {
   "cell_type": "markdown",
   "metadata": {},
   "source": [
    "## Documentation"
   ]
  },
  {
   "cell_type": "markdown",
   "metadata": {},
   "source": [
    "## Introduction\n",
    "\n",
    "In this project, the task is to create an ATM machine program which performs tasks of  depositing some amount, withdrawing some amount, transferring funds and checking account balance.\n",
    "\n",
    "## Methodology\n",
    "\n",
    "    The concepts of Object-oriented Programming(OOP) are used to achieve the end goal. \n",
    "    OOP mainly uses the idea of classes and objects. \n",
    "\n",
    "### What are classes in OOP?\n",
    "\n",
    "    Classes can be defined as a user-defined data type. A class contains some attributes and methods. \n",
    "    Attributes can be called as the properties of the data type we are creating using a class. \n",
    "    A method is mainly a function which defines the behavior of a class.\n",
    "\n",
    "### What are objects in OOP?\n",
    "\n",
    "    An object is an instance of a class. It is a real world entity which has unique attributes and behavior.\n",
    "    An object can also be called as an entity of type 'class'.\n",
    "    \n",
    "### Access Modifiers\n",
    "\n",
    "    In Python, there are three types of access modifiers: Public, Protected(denoted using _) and Private(denoted using __)\n",
    "    \n",
    "    Public attributes and methods can be accessed evrywhere in the class whereas Protected and Private ones can't be.\n",
    "    To access protected and private members of a class, one has to use getters and setters.\n",
    "    Thus, these methods provide better security and hence prevent unauthorized access.\n",
    "    \n",
    "### Implementation\n",
    "    \n",
    "    In the ATM machine program, the PIN and balance attributes have been made private so that any unauthorized person can't manipulate these values. Since the pin remains private, security is not compromised. \n",
    "    \n",
    "    Separate methods for checking account balance, depositing, withdrawing and transferring have been created and have been accessed at appropriate times in the main function. \n",
    "\n"
   ]
  },
  {
   "cell_type": "markdown",
   "metadata": {},
   "source": []
  },
  {
   "cell_type": "markdown",
   "metadata": {},
   "source": []
  },
  {
   "cell_type": "code",
   "execution_count": null,
   "metadata": {},
   "outputs": [],
   "source": [
    "class ATM :  \n",
    "    checking_balance = 5000\n",
    "    saving_balance = 2000\n",
    "\n",
    "    def login(self, pin) :\n",
    "        if pin == 1111:\n",
    "            return True\n",
    "        else:\n",
    "            return False\n",
    "\n",
    "    def credit(self, amt):\n",
    "        self.saving_balance += amt\n",
    "\n",
    "    def debit(self, amt):\n",
    "        self.saving_balance -= amt\n",
    "\n",
    "    def display(self):\n",
    "        print(\"Current balance is \"+str(self.saving_balance))\n",
    "\n",
    "    def transfer(self, amt):\n",
    "        self.checking_balance -= amt\n",
    "        self.saving_balance += amt\n",
    "\n",
    "obj = ATM() \n",
    "\n",
    "fp = obj.login(int(input(\" Enter Your PIN \")))\n",
    "sp = obj.login(int(input(\" Please Re-enter Your PIN \")))\n",
    "if fp and sp:\n",
    "    while True:\n",
    "\n",
    "        Choice = int(input(\"\"\"  \n",
    "                Press 1 To Check Saving Balance\n",
    "                Press 2 To Deposit Funds\n",
    "                Press 3 To Withdraw Funds\n",
    "                Press 4 To Transfer Funds\n",
    "                Press 5 To Exit \"\"\"))\n",
    "        if Choice == 1:\n",
    "            obj.display()\n",
    "            \n",
    "        elif Choice == 2:\n",
    "            obj.credit(int(input(\" Enter Amount To Deposit \")))\n",
    "            print(\"Successfull\")\n",
    "            obj.display()\n",
    "            \n",
    "        elif Choice == 3:\n",
    "            amt=(int(input(\" Enter Amount To Withdraw \")))\n",
    "            \n",
    "            if amt < obj.saving_balance:\n",
    "                obj.debit(amt)\n",
    "                print(\" Please Collect Your Cash \")\n",
    "                obj.display()\n",
    "                \n",
    "            else:\n",
    "                print(\" Insufficient Funds \")\n",
    "                \n",
    "        elif Choice == 4:\n",
    "            amt=int(input(\" Enter Amount To Transfer \"))\n",
    "            \n",
    "            if amt < obj.checking_balance:\n",
    "                obj.transfer(amt)\n",
    "                print(\" Transcation Successfull \")\n",
    "                print(\" Current Checking Balance Is : \", obj.checking_balance)\n",
    "                print(\" Current Saving Balance Is : \", obj.saving_balance)\n",
    "                \n",
    "        elif Choice == 5:\n",
    "            print(\" Thank You \")\n",
    "            print(\" Please Collect Your Card !! \")\n",
    "            break\n",
    "            \n",
    "        else:\n",
    "            print(\" Invalid Choice \")\n",
    "            break\n",
    "        \n",
    "else:\n",
    "    print(\" Wrong PIN \")\n"
   ]
  },
  {
   "cell_type": "markdown",
   "metadata": {},
   "source": []
  }
 ],
 "metadata": {
  "kernelspec": {
   "display_name": "Python 3.11.0 64-bit",
   "language": "python",
   "name": "python3"
  },
  "language_info": {
   "name": "python",
   "version": "3.11.0"
  },
  "orig_nbformat": 4,
  "vscode": {
   "interpreter": {
    "hash": "b98f472bb8ba48098397e3b897b5be76f7bf0e62d98845cdb0e8066dc5677259"
   }
  }
 },
 "nbformat": 4,
 "nbformat_minor": 2
}
